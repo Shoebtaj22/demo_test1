{
    "cells": [
        {
            "cell_type": "markdown",
            "metadata": {},
            "source": "#description"
        },
        {
            "cell_type": "code",
            "execution_count": 1,
            "metadata": {},
            "outputs": [
                {
                    "data": {
                        "text/html": "<div>\n<style scoped>\n    .dataframe tbody tr th:only-of-type {\n        vertical-align: middle;\n    }\n\n    .dataframe tbody tr th {\n        vertical-align: top;\n    }\n\n    .dataframe thead th {\n        text-align: right;\n    }\n</style>\n<table border=\"1\" class=\"dataframe\">\n  <thead>\n    <tr style=\"text-align: right;\">\n      <th></th>\n      <th>location</th>\n      <th>Excel</th>\n      <th>Excel.1</th>\n      <th>Excel.2</th>\n    </tr>\n  </thead>\n  <tbody>\n    <tr>\n      <th>0</th>\n      <td>lat</td>\n      <td>51.33319</td>\n      <td>51.33319</td>\n      <td>51.33319</td>\n    </tr>\n    <tr>\n      <th>1</th>\n      <td>lon</td>\n      <td>-110.62500</td>\n      <td>-110.62500</td>\n      <td>-110.62500</td>\n    </tr>\n    <tr>\n      <th>2</th>\n      <td>asl</td>\n      <td>763.029</td>\n      <td>763.029</td>\n      <td>763.029</td>\n    </tr>\n    <tr>\n      <th>3</th>\n      <td>variable</td>\n      <td>Temperature</td>\n      <td>Temperature</td>\n      <td>Temperature</td>\n    </tr>\n    <tr>\n      <th>4</th>\n      <td>unit</td>\n      <td>\u00b0C</td>\n      <td>\u00b0C</td>\n      <td>\u00b0C</td>\n    </tr>\n  </tbody>\n</table>\n</div>",
                        "text/plain": "   location        Excel      Excel.1      Excel.2\n0       lat     51.33319     51.33319     51.33319\n1       lon   -110.62500   -110.62500   -110.62500\n2       asl      763.029      763.029      763.029\n3  variable  Temperature  Temperature  Temperature\n4      unit           \u00b0C           \u00b0C           \u00b0C"
                    },
                    "execution_count": 1,
                    "metadata": {},
                    "output_type": "execute_result"
                }
            ],
            "source": "# The code was removed by Watson Studio for sharing."
        },
        {
            "cell_type": "code",
            "execution_count": null,
            "metadata": {},
            "outputs": [],
            "source": ""
        }
    ],
    "metadata": {
        "kernelspec": {
            "display_name": "Python 3.9",
            "language": "python",
            "name": "python3"
        },
        "language_info": {
            "codemirror_mode": {
                "name": "ipython",
                "version": 3
            },
            "file_extension": ".py",
            "mimetype": "text/x-python",
            "name": "python",
            "nbconvert_exporter": "python",
            "pygments_lexer": "ipython3",
            "version": "3.9.12"
        }
    },
    "nbformat": 4,
    "nbformat_minor": 1
}